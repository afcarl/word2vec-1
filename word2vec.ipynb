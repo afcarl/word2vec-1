{
 "cells": [
  {
   "cell_type": "markdown",
   "metadata": {},
   "source": [
    "## Word2Vec"
   ]
  },
  {
   "cell_type": "code",
   "execution_count": 10,
   "metadata": {
    "collapsed": true
   },
   "outputs": [],
   "source": [
    "import collections\n",
    "import numpy as np\n",
    "import tensorflow as tf\n",
    "import matplotlib.pyplot as plt\n",
    "%matplotlib inline"
   ]
  },
  {
   "cell_type": "code",
   "execution_count": 11,
   "metadata": {
    "collapsed": true
   },
   "outputs": [],
   "source": [
    "# Configuration\n",
    "batch_size = 20"
   ]
  },
  {
   "cell_type": "code",
   "execution_count": 12,
   "metadata": {
    "collapsed": true
   },
   "outputs": [],
   "source": [
    "# Dimension of the embedding vector. Two too small to get\n",
    "# any meaningful embeddings, but let's make it 2 for simple visualization\n",
    "embedding_size = 2\n",
    "num_sampled = 15    # Number of negative examples to sample."
   ]
  },
  {
   "cell_type": "markdown",
   "metadata": {},
   "source": [
    "### Input some sentences"
   ]
  },
  {
   "cell_type": "code",
   "execution_count": 31,
   "metadata": {
    "collapsed": true
   },
   "outputs": [],
   "source": [
    "sentences = [\"I have something that I want to say to him\",\n",
    "            \"How are you\",\n",
    "            \"We can see many stars tonight\",\n",
    "            \"That's our house\",\n",
    "            \"sung likes cats\",\n",
    "            \"she loves dogs\",\n",
    "            \"Do you know what he has done\",\n",
    "            \"cats are great companions when they want to be\",\n",
    "            \"We need to invest in clean, renewable energy\",\n",
    "            \"women love his man\",\n",
    "            \"queen love his king\",\n",
    "            \"girl love his boy\",\n",
    "            \"The line is too long. Why don't you come back tomorrow\",\n",
    "            \"man and women roam in park\",\n",
    "            \"Does it really matter\",\n",
    "            \"dynasty king remain mortal\"]"
   ]
  },
  {
   "cell_type": "markdown",
   "metadata": {},
   "source": [
    "### Convert those sentences into lines"
   ]
  },
  {
   "cell_type": "code",
   "execution_count": 32,
   "metadata": {
    "collapsed": true
   },
   "outputs": [],
   "source": [
    "# sentences to words and count\n",
    "words = \" \".join(sentences).split()"
   ]
  },
  {
   "cell_type": "markdown",
   "metadata": {},
   "source": [
    "### List of words"
   ]
  },
  {
   "cell_type": "code",
   "execution_count": 33,
   "metadata": {
    "collapsed": false
   },
   "outputs": [
    {
     "data": {
      "text/plain": [
       "['I',\n",
       " 'have',\n",
       " 'something',\n",
       " 'that',\n",
       " 'I',\n",
       " 'want',\n",
       " 'to',\n",
       " 'say',\n",
       " 'to',\n",
       " 'him',\n",
       " 'How',\n",
       " 'are',\n",
       " 'you',\n",
       " 'We',\n",
       " 'can',\n",
       " 'see',\n",
       " 'many',\n",
       " 'stars',\n",
       " 'tonight',\n",
       " \"That's\",\n",
       " 'our',\n",
       " 'house',\n",
       " 'sung',\n",
       " 'likes',\n",
       " 'cats',\n",
       " 'she',\n",
       " 'loves',\n",
       " 'dogs',\n",
       " 'Do',\n",
       " 'you',\n",
       " 'know',\n",
       " 'what',\n",
       " 'he',\n",
       " 'has',\n",
       " 'done',\n",
       " 'cats',\n",
       " 'are',\n",
       " 'great',\n",
       " 'companions',\n",
       " 'when',\n",
       " 'they',\n",
       " 'want',\n",
       " 'to',\n",
       " 'be',\n",
       " 'We',\n",
       " 'need',\n",
       " 'to',\n",
       " 'invest',\n",
       " 'in',\n",
       " 'clean,',\n",
       " 'renewable',\n",
       " 'energy',\n",
       " 'women',\n",
       " 'love',\n",
       " 'his',\n",
       " 'man',\n",
       " 'queen',\n",
       " 'love',\n",
       " 'his',\n",
       " 'king',\n",
       " 'girl',\n",
       " 'love',\n",
       " 'his',\n",
       " 'boy',\n",
       " 'The',\n",
       " 'line',\n",
       " 'is',\n",
       " 'too',\n",
       " 'long.',\n",
       " 'Why',\n",
       " \"don't\",\n",
       " 'you',\n",
       " 'come',\n",
       " 'back',\n",
       " 'tomorrow',\n",
       " 'man',\n",
       " 'and',\n",
       " 'women',\n",
       " 'roam',\n",
       " 'in',\n",
       " 'park',\n",
       " 'Does',\n",
       " 'it',\n",
       " 'really',\n",
       " 'matter',\n",
       " 'dynasty',\n",
       " 'king',\n",
       " 'remain',\n",
       " 'mortal']"
      ]
     },
     "execution_count": 33,
     "metadata": {},
     "output_type": "execute_result"
    }
   ],
   "source": [
    "words"
   ]
  },
  {
   "cell_type": "markdown",
   "metadata": {},
   "source": [
    "### Count the occurance of each word"
   ]
  },
  {
   "cell_type": "code",
   "execution_count": 35,
   "metadata": {
    "collapsed": true
   },
   "outputs": [],
   "source": [
    "count = collections.Counter(words).most_common()"
   ]
  },
  {
   "cell_type": "markdown",
   "metadata": {},
   "source": [
    "### Build a dictionary to lookup table"
   ]
  },
  {
   "cell_type": "code",
   "execution_count": 36,
   "metadata": {
    "collapsed": true
   },
   "outputs": [],
   "source": [
    "# Build dictionaries\n",
    "reverse_dictionary = [i[0] for i in count] #reverse dic, idx -> word\n",
    "dic = {w: i for i, w in enumerate(reverse_dictionary)} #dic, word -> id\n",
    "voc_size = len(dic)"
   ]
  },
  {
   "cell_type": "code",
   "execution_count": 37,
   "metadata": {
    "collapsed": false
   },
   "outputs": [
    {
     "data": {
      "text/plain": [
       "['to',\n",
       " 'you',\n",
       " 'love',\n",
       " 'his',\n",
       " 'We',\n",
       " 'man',\n",
       " 'cats',\n",
       " 'I',\n",
       " 'in',\n",
       " 'king',\n",
       " 'want',\n",
       " 'women',\n",
       " 'are',\n",
       " 'mortal',\n",
       " 'be',\n",
       " 'many',\n",
       " 'girl',\n",
       " 'dynasty',\n",
       " 'come',\n",
       " 'back',\n",
       " 'something',\n",
       " 'really',\n",
       " 'too',\n",
       " 'our',\n",
       " \"don't\",\n",
       " 'and',\n",
       " 'him',\n",
       " 'what',\n",
       " 'need',\n",
       " 'energy',\n",
       " 'queen',\n",
       " 'matter',\n",
       " 'Do',\n",
       " 'loves',\n",
       " 'Does',\n",
       " 'they',\n",
       " 'she',\n",
       " 'know',\n",
       " 'How',\n",
       " 'remain',\n",
       " 'can',\n",
       " 'done',\n",
       " 'has',\n",
       " 'invest',\n",
       " 'it',\n",
       " 'tonight',\n",
       " 'is',\n",
       " 'great',\n",
       " 'clean,',\n",
       " 'see',\n",
       " 'house',\n",
       " 'line',\n",
       " 'roam',\n",
       " 'sung',\n",
       " 'say',\n",
       " 'Why',\n",
       " 'renewable',\n",
       " 'have',\n",
       " 'dogs',\n",
       " 'The',\n",
       " 'stars',\n",
       " 'companions',\n",
       " 'likes',\n",
       " \"That's\",\n",
       " 'tomorrow',\n",
       " 'long.',\n",
       " 'that',\n",
       " 'when',\n",
       " 'he',\n",
       " 'boy',\n",
       " 'park']"
      ]
     },
     "execution_count": 37,
     "metadata": {},
     "output_type": "execute_result"
    }
   ],
   "source": [
    "reverse_dictionary"
   ]
  },
  {
   "cell_type": "code",
   "execution_count": 38,
   "metadata": {
    "collapsed": false
   },
   "outputs": [
    {
     "data": {
      "text/plain": [
       "{'Do': 32,\n",
       " 'Does': 34,\n",
       " 'How': 38,\n",
       " 'I': 7,\n",
       " \"That's\": 63,\n",
       " 'The': 59,\n",
       " 'We': 4,\n",
       " 'Why': 55,\n",
       " 'and': 25,\n",
       " 'are': 12,\n",
       " 'back': 19,\n",
       " 'be': 14,\n",
       " 'boy': 69,\n",
       " 'can': 40,\n",
       " 'cats': 6,\n",
       " 'clean,': 48,\n",
       " 'come': 18,\n",
       " 'companions': 61,\n",
       " 'dogs': 58,\n",
       " \"don't\": 24,\n",
       " 'done': 41,\n",
       " 'dynasty': 17,\n",
       " 'energy': 29,\n",
       " 'girl': 16,\n",
       " 'great': 47,\n",
       " 'has': 42,\n",
       " 'have': 57,\n",
       " 'he': 68,\n",
       " 'him': 26,\n",
       " 'his': 3,\n",
       " 'house': 50,\n",
       " 'in': 8,\n",
       " 'invest': 43,\n",
       " 'is': 46,\n",
       " 'it': 44,\n",
       " 'king': 9,\n",
       " 'know': 37,\n",
       " 'likes': 62,\n",
       " 'line': 51,\n",
       " 'long.': 65,\n",
       " 'love': 2,\n",
       " 'loves': 33,\n",
       " 'man': 5,\n",
       " 'many': 15,\n",
       " 'matter': 31,\n",
       " 'mortal': 13,\n",
       " 'need': 28,\n",
       " 'our': 23,\n",
       " 'park': 70,\n",
       " 'queen': 30,\n",
       " 'really': 21,\n",
       " 'remain': 39,\n",
       " 'renewable': 56,\n",
       " 'roam': 52,\n",
       " 'say': 54,\n",
       " 'see': 49,\n",
       " 'she': 36,\n",
       " 'something': 20,\n",
       " 'stars': 60,\n",
       " 'sung': 53,\n",
       " 'that': 66,\n",
       " 'they': 35,\n",
       " 'to': 0,\n",
       " 'tomorrow': 64,\n",
       " 'tonight': 45,\n",
       " 'too': 22,\n",
       " 'want': 10,\n",
       " 'what': 27,\n",
       " 'when': 67,\n",
       " 'women': 11,\n",
       " 'you': 1}"
      ]
     },
     "execution_count": 38,
     "metadata": {},
     "output_type": "execute_result"
    }
   ],
   "source": [
    "dic"
   ]
  },
  {
   "cell_type": "code",
   "execution_count": 39,
   "metadata": {
    "collapsed": false
   },
   "outputs": [
    {
     "name": "stdout",
     "output_type": "stream",
     "text": [
      "Sample data [7, 57, 20, 66, 7, 10, 0, 54, 0, 26] ['I', 'have', 'something', 'that', 'I', 'want', 'to', 'say', 'to', 'him']\n"
     ]
    }
   ],
   "source": [
    "# Make indexed word data\n",
    "data = [dic[word] for word in words]\n",
    "print('Sample data', data[:10], [reverse_dictionary[t] for t in data[:10]])"
   ]
  },
  {
   "cell_type": "code",
   "execution_count": 40,
   "metadata": {
    "collapsed": false
   },
   "outputs": [
    {
     "name": "stdout",
     "output_type": "stream",
     "text": [
      "Context pairs [[[7, 20], 57], [[57, 66], 20], [[20, 7], 66], [[66, 10], 7], [[7, 0], 10], [[10, 54], 0], [[0, 0], 54], [[54, 26], 0], [[0, 38], 26], [[26, 12], 38]]\n"
     ]
    }
   ],
   "source": [
    "# Let's make a training data for window size 1 for simplicity\n",
    "# ([the, brown], quick), ([quick, fox], brown), ([brown, jumped], fox),\n",
    "cbow_pairs = [];\n",
    "for i in range(1, len(data)-1) :\n",
    "    cbow_pairs.append([[data[i-1], data[i+1]], data[i]]);\n",
    "print('Context pairs', cbow_pairs[:10])"
   ]
  },
  {
   "cell_type": "code",
   "execution_count": 41,
   "metadata": {
    "collapsed": false
   },
   "outputs": [
    {
     "name": "stdout",
     "output_type": "stream",
     "text": [
      "skip-gram pairs [[57, 7], [57, 20], [20, 57], [20, 66], [66, 20]]\n"
     ]
    }
   ],
   "source": [
    "# Let's make skip-gram pairs\n",
    "# (quick, the), (quick, brown), (brown, quick), (brown, fox), ...\n",
    "skip_gram_pairs = [];\n",
    "for c in cbow_pairs:\n",
    "    skip_gram_pairs.append([c[1], c[0][0]])\n",
    "    skip_gram_pairs.append([c[1], c[0][1]])\n",
    "print('skip-gram pairs', skip_gram_pairs[:5])"
   ]
  },
  {
   "cell_type": "code",
   "execution_count": 42,
   "metadata": {
    "collapsed": false
   },
   "outputs": [
    {
     "name": "stdout",
     "output_type": "stream",
     "text": [
      "Batches (x, y) ([8, 10, 17], [[70], [7], [31]])\n"
     ]
    }
   ],
   "source": [
    "def generate_batch(size):\n",
    "    assert size < len(skip_gram_pairs)\n",
    "    x_data=[]\n",
    "    y_data = []\n",
    "    r = np.random.choice(range(len(skip_gram_pairs)), size, replace=False)\n",
    "    for i in r:\n",
    "        x_data.append(skip_gram_pairs[i][0])  # n dim\n",
    "        y_data.append([skip_gram_pairs[i][1]])  # n, 1 dim\n",
    "    return x_data, y_data\n",
    "\n",
    "# generate_batch test\n",
    "print ('Batches (x, y)', generate_batch(3))"
   ]
  },
  {
   "cell_type": "code",
   "execution_count": 43,
   "metadata": {
    "collapsed": true
   },
   "outputs": [],
   "source": [
    "# Input data\n",
    "train_inputs = tf.placeholder(tf.int32, shape=[batch_size])\n",
    "train_labels = tf.placeholder(tf.int32, shape=[batch_size, 1])\n",
    "# Ops and variables pinned to the CPU because of missing GPU implementation\n",
    "with tf.device('/cpu:0'):\n",
    "    # Look up embeddings for inputs.\n",
    "    embeddings = tf.Variable(\n",
    "        tf.random_uniform([voc_size, embedding_size], -1.0, 1.0))\n",
    "    embed = tf.nn.embedding_lookup(embeddings, train_inputs) # lookup table\n",
    "\n",
    "# Construct the variables for the NCE loss\n",
    "nce_weights = tf.Variable(\n",
    "    tf.random_uniform([voc_size, embedding_size],-1.0, 1.0))\n",
    "nce_biases = tf.Variable(tf.zeros([voc_size]))\n",
    "\n",
    "# Compute the average NCE loss for the batch.\n",
    "# This does the magic:\n",
    "#   tf.nn.nce_loss(weights, biases, inputs, labels, num_sampled, num_classes ...)\n",
    "# It automatically draws negative samples when we evaluate the loss.\n",
    "loss = tf.reduce_mean(tf.nn.nce_loss(nce_weights, nce_biases, train_labels, embed, num_sampled, voc_size))\n",
    "# Use the adam optimizer\n",
    "train_op = tf.train.AdamOptimizer(1e-1).minimize(loss)"
   ]
  },
  {
   "cell_type": "code",
   "execution_count": 44,
   "metadata": {
    "collapsed": false
   },
   "outputs": [
    {
     "name": "stdout",
     "output_type": "stream",
     "text": [
      "Loss at  0 25.6401\n",
      "Loss at  10 19.4657\n",
      "Loss at  20 8.49587\n",
      "Loss at  30 7.07209\n",
      "Loss at  40 5.3045\n",
      "Loss at  50 4.89219\n",
      "Loss at  60 3.38809\n",
      "Loss at  70 3.37015\n",
      "Loss at  80 3.68431\n",
      "Loss at  90 4.99235\n"
     ]
    },
    {
     "data": {
      "image/png": "[encoded data removed]",
      "text/plain": [
       "<matplotlib.figure.Figure at 0x7fa0181349e8>"
      ]
     },
     "metadata": {},
     "output_type": "display_data"
    }
   ],
   "source": [
    "# Launch the graph in a session\n",
    "with tf.Session() as sess:\n",
    "    # Initializing all variables\n",
    "    tf.global_variables_initializer().run()\n",
    "\n",
    "    for step in range(100):\n",
    "        batch_inputs, batch_labels = generate_batch(batch_size)\n",
    "        _, loss_val = sess.run([train_op, loss],\n",
    "                feed_dict={train_inputs: batch_inputs, train_labels: batch_labels})\n",
    "        if step % 10 == 0:\n",
    "            print(\"Loss at \", step, loss_val) # Report the loss\n",
    "\n",
    "    # Final embeddings are ready for you to use. Need to normalize for practical use\n",
    "    trained_embeddings = embeddings.eval()"
   ]
  },
  {
   "cell_type": "code",
   "execution_count": 47,
   "metadata": {
    "collapsed": false
   },
   "outputs": [
    {
     "data": {
      "image/png": "[encoded data removed]",
      "text/plain": [
       "<matplotlib.figure.Figure at 0x7fa0181067b8>"
      ]
     },
     "metadata": {},
     "output_type": "display_data"
    }
   ],
   "source": [
    "# Show word2vec if dim is 2\n",
    "if trained_embeddings.shape[1] == 2:\n",
    "    labels = rdic[:50] # Show top 50 words\n",
    "    for i, label in enumerate(labels):\n",
    "        x, y = trained_embeddings[i,:]\n",
    "        plt.scatter(x, y)\n",
    "        plt.annotate(label, xy=(x, y), xytext=(5, 2),\n",
    "            textcoords='offset points', ha='right', va='bottom')\n",
    "    plt.savefig(\"word2vec.png\")"
   ]
  }
 ],
 "metadata": {
  "kernelspec": {
   "display_name": "Python 3",
   "language": "python",
   "name": "python3"
  },
  "language_info": {
   "codemirror_mode": {
    "name": "ipython",
    "version": 3
   },
   "file_extension": ".py",
   "mimetype": "text/x-python",
   "name": "python",
   "nbconvert_exporter": "python",
   "pygments_lexer": "ipython3",
   "version": "3.5.2"
  }
 },
 "nbformat": 4,
 "nbformat_minor": 1
}
